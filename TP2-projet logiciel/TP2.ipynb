{
 "cells": [
  {
   "cell_type": "markdown",
   "metadata": {},
   "source": [
    "pc: pc portable , pc fixe\n",
    "telephone: fixe, sans fil, android, iphone\n",
    "routeur\n",
    "switch: 24 ports, d'autres"
   ]
  }
 ],
 "metadata": {
  "language_info": {
   "name": "python"
  },
  "orig_nbformat": 4
 },
 "nbformat": 4,
 "nbformat_minor": 2
}
